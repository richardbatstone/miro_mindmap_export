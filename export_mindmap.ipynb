{
 "cells": [
  {
   "cell_type": "markdown",
   "metadata": {},
   "source": [
    "Connect to your miro board.\n",
    "\n",
    "See https://developers.miro.com/docs/getting-started for miro setup instructions"
   ]
  },
  {
   "cell_type": "code",
   "execution_count": null,
   "metadata": {},
   "outputs": [],
   "source": [
    "import requests\n",
    "import json\n",
    "\n",
    "url = \"\"\"YOUR BOARD URL\"\"\" # e.g. https://api.miro.com/v1/boards/XXXXXXXXXXX\"\n",
    "bearer_token = \"\"\"YOUR TOKEN\"\"\"\n",
    "headers = {\"Authorization\": bearer_token}"
   ]
  },
  {
   "cell_type": "code",
   "execution_count": null,
   "metadata": {},
   "outputs": [],
   "source": [
    "# Access board content with the widgets endpoint\n",
    "# Get the content as a json object\n",
    "\n",
    "widgets_url = url + \"/widgets/\"\n",
    "response = requests.request(\"GET\", widgets_url, headers=headers)\n",
    "all_widgets = response.json()"
   ]
  },
  {
   "cell_type": "code",
   "execution_count": null,
   "metadata": {},
   "outputs": [],
   "source": [
    "# Have a look at an entry\n",
    "\n",
    "all_widgets['data'][0]"
   ]
  },
  {
   "cell_type": "markdown",
   "metadata": {},
   "source": [
    "Separate the data into concepts (the text boxes with your mindmap content) and lines (the lines joining your textboxes).\n",
    "\n",
    " - 'concepts' is a dictionary whose keys are the miro widget IDs of the text boxes. The values are dictionaries with single key 'text' containing the text content of the boxes.\n",
    "\n",
    " - 'lines' is a dictionary whose keys are the miro widget IDs of the lines. The values are dictionaries with 'start_id' and 'end_id' keys containing the miro widget IDs of the boxes that the line joins.\n",
    " \n",
    " - 'endPoints' is a list of 'end_id's, used below to identify the mindmap starting node."
   ]
  },
  {
   "cell_type": "code",
   "execution_count": null,
   "metadata": {},
   "outputs": [],
   "source": [
    "concepts = {}\n",
    "lines = {}\n",
    "endPoints = []\n",
    "\n",
    "for i in all_widgets['data']:\n",
    "    if i['type'] == \"text\":\n",
    "        concepts[i['id']] = {'text':i['text']}\n",
    "    if i['type'] == \"line\":\n",
    "        lines[i['id']] = {'start_id':i['startWidget']['id'], 'end_id':i['endWidget']['id']}\n",
    "        endPoints.append(i['endWidget']['id'])"
   ]
  },
  {
   "cell_type": "markdown",
   "metadata": {},
   "source": [
    "Create the mind_map object and identify the starting node (the central concept from which the other concepts branch).\n",
    "\n",
    "The starting node is the concept which is not an end point for any lines."
   ]
  },
  {
   "cell_type": "code",
   "execution_count": null,
   "metadata": {},
   "outputs": [],
   "source": [
    "mind_map = {}\n",
    "\n",
    "for i in concepts.keys():\n",
    "    if i in endPoints:\n",
    "        pass\n",
    "    else:\n",
    "        mind_map[i] = {'text':concepts[i]['text'], 'branches':{}}"
   ]
  },
  {
   "cell_type": "markdown",
   "metadata": {},
   "source": [
    "The get_branches function expands a given node. That is:\n",
    " - it checks if there are any lines that have the current node as a start point\n",
    " - if there are, it gets the connected concept and adds it as a 'branch' of the given node\n",
    " - it returns the branch nodes for further iteration"
   ]
  },
  {
   "cell_type": "code",
   "execution_count": null,
   "metadata": {},
   "outputs": [],
   "source": [
    "def get_branches(node_id, mind_map_node, lines, concepts):\n",
    "    new_nodes = []\n",
    "    for i in lines:\n",
    "        if lines[i]['start_id'] == node_id:\n",
    "            branch_id = lines[i]['end_id']\n",
    "            mind_map_node['branches'][branch_id] = {'text':concepts[lines[i]['end_id']]['text'], 'branches':{}}\n",
    "            new_nodes.append([branch_id, mind_map_node['branches'][branch_id]])\n",
    "    return new_nodes"
   ]
  },
  {
   "cell_type": "markdown",
   "metadata": {},
   "source": [
    "Recursively build the mind_map object:\n",
    " - initiate a stack with the starting node\n",
    " - pop the node from the stack and expand its branches\n",
    " - add any branches back to the stack\n",
    " - repeat until the stack is empty"
   ]
  },
  {
   "cell_type": "code",
   "execution_count": null,
   "metadata": {},
   "outputs": [],
   "source": [
    "stack = []\n",
    "\n",
    "# Confirm there is a single start point\n",
    "\n",
    "if len(list(mind_map.keys())) != 1:\n",
    "    print(\"error single start point required\")\n",
    "else:\n",
    "    start = []\n",
    "    start.extend(mind_map.keys())\n",
    "    start.append(mind_map[start[0]])\n",
    "    stack.append(start)\n",
    "    \n",
    "while stack:\n",
    "    current = stack.pop(0)\n",
    "    new_nodes = get_branches(current[0], current[1], lines, concepts)\n",
    "    stack.extend(new_nodes)"
   ]
  },
  {
   "cell_type": "markdown",
   "metadata": {},
   "source": [
    "Export the mind_map as a json object."
   ]
  },
  {
   "cell_type": "code",
   "execution_count": null,
   "metadata": {},
   "outputs": [],
   "source": [
    "with open(\"mind_map.json\", \"w\") as outfile:  \n",
    "    json.dump(mind_map, outfile) "
   ]
  }
 ],
 "metadata": {
  "kernelspec": {
   "display_name": "Python 3",
   "language": "python",
   "name": "python3"
  },
  "language_info": {
   "codemirror_mode": {
    "name": "ipython",
    "version": 3
   },
   "file_extension": ".py",
   "mimetype": "text/x-python",
   "name": "python",
   "nbconvert_exporter": "python",
   "pygments_lexer": "ipython3",
   "version": "3.6.3"
  }
 },
 "nbformat": 4,
 "nbformat_minor": 2
}
